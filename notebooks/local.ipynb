{
 "cells": [
  {
   "cell_type": "code",
   "execution_count": null,
   "metadata": {},
   "outputs": [],
   "source": [
    "!pip install transformers\n",
    "!pip install accelerate"
   ]
  },
  {
   "cell_type": "code",
   "execution_count": null,
   "metadata": {},
   "outputs": [],
   "source": [
    "from transformers import AutoModelForCausalLM, AutoTokenizer\n",
    "device = \"cuda\"\n",
    "\n",
    "model = AutoModelForCausalLM.from_pretrained(\n",
    "    \"Qwen/CodeQwen1.5-7B-Chat\",\n",
    "    torch_dtype=\"auto\",\n",
    "    device_map=\"auto\"\n",
    ")\n",
    "tokenizer = AutoTokenizer.from_pretrained(\"Qwen/CodeQwen1.5-7B-Chat\")\n",
    "\n",
    "def generate_response(messages):\n",
    "  text = tokenizer.apply_chat_template(\n",
    "      messages,\n",
    "      tokenize=False,\n",
    "      add_generation_prompt=True\n",
    "  )\n",
    "  model_inputs = tokenizer([text], return_tensors=\"pt\").to(device)\n",
    "\n",
    "  generated_ids = model.generate(\n",
    "      model_inputs.input_ids,\n",
    "      max_new_tokens=4096,\n",
    "  )\n",
    "  generated_ids = [\n",
    "      output_ids[len(input_ids):] for input_ids, output_ids in zip(model_inputs.input_ids, generated_ids)\n",
    "  ]\n",
    "\n",
    "  response = tokenizer.batch_decode(generated_ids, skip_special_tokens=True)[0]\n",
    "  return response\n"
   ]
  },
  {
   "cell_type": "code",
   "execution_count": null,
   "metadata": {},
   "outputs": [],
   "source": [
    "SYSTEM_PROMPT = \"\"\"\n",
    "You are a coding assistant for data science tasks.\n",
    "Your task is to only output Python code.\n",
    "Do not output any other text.\"\"\"\n",
    "\n",
    "messages = [\n",
    "    {\"role\": \"system\", \"content\": SYSTEM_PROMPT},\n",
    "    {\"role\": \"user\", \"content\": \"# In[ ]:\\n\\n\\nimport pandas as pd\\nimport matplotlib.pyplot as plt\\n\\n\\n# In[ ]:\\n\\n\\n# You are a professional data scientist. Answer the following questions using pandas and matplotlib.\\n\\n\\n# In[ ]:\\n\\n\\n# # Exercise 1\\n\\n\\n# In[ ]:\\n\\n\\ndf = pd.read_csv('employee.csv')\\n\\n\\n# In[ ]:\\n\\n\\n# Schema of Dataframes:\\n# Columns in df with example values:\\n# name (Peter), gender (m), DOB (1992/01/17)\\n\\n\\n# In[ ]:\\n\\n\\n# Problem: How many male and female employees are born in 1992?\\n\\n\\n# In[ ]:\\n\\n\\n# Solution: Let's solve this problem step-by-step.\\n# Step 1: convert date of birth in to datetime\\ndf['DOB'] = pd.to_datetime(df['DOB'])\\n# Step 2: get the number of male born in 1992\\nnum_male_students = len(df[(df['DOB'].dt.year == 1992) & (df['gender'] == 'm')])\\n# Step 3: get the number of female born in that year\\nnum_female_students = len(df[(df['DOB'].dt.year == 1992) & (df['gender'] == 'f')])\\n\\n\\n# In[ ]:\\n\\n\\n# # Exercise 2\\n\\n\\n# In[ ]:\\n\\n\\ndf = pd.read_csv('geo.csv')\\n\\n\\n# In[ ]:\\n\\n\\n# Schema of Dataframes:\\n# Columns in df with example values:\\n# state (WA), capital (Seattle), population (1.4 millon)\\n\\n\\n# In[ ]:\\n\\n\\n# Problem: What is the population of California?\\n\\n\\n# In[ ]:\\n\\n\\n# Solution: Let's solve this problem step-by-step.\\nresult = df[df['state'] == 'CA']['population']\\n\\n\\n# In[ ]:\\n\\n\\n# # Exercise 3\\n\\n\\n# In[ ]:\\n\\n\\ndf = pd.read_csv('score.csv')\\n\\n\\n# In[ ]:\\n\\n\\n# Schema of Dataframes:\\n# Columns in df with example values:\\n# name (John), score (97)\\n\\n\\n# In[ ]:\\n\\n\\n# Problem: Make a new column \\\"grade\\\" for letter grades (A: 90+, B: 70-90, C: <70) and plot the number of students in each grade.\\n\\n\\n# In[ ]:\\n\\n\\n# Solution: Let's solve this problem step-by-step.\\n# Step 1: Define a function to convert scores to letter grades.\\ndef get_grade(score):\\n  if score >= 90:\\n    return 'A'\\n  elif 70 <= score < 90:\\n    return 'B'\\n  else:\\n    return 'C'\\n# Step 2: Convert scores to letter grades.\\ndf['grade'] = df.score.apply(get_grade)\\n# Step 3: Count the number of students by grade.\\ncount_df = df['grade'].value_counts()\\n# Step 4: Visualize in a bar chart.\\ncount_df.plot(kind='bar')\\n\\n\\n# In[ ]:\\n\\n\\n# # Exercise 4\\n\\n\\n# In[ ]:\\n\\n\\ndf = pd.read_csv('phones.csv')\\n\\n\\n# In[ ]:\\n\\n\\n# Schema of Dataframes:\\n# Columns in df with example values:\\n# model (Pixel 6), brand (Google), price (387), release (2022)\\n\\n\\n# In[ ]:\\n\\n\\n# Problem: What is the most expensive phone in each brand.\\n\\n\\n# In[ ]:\\n\\n\\n# Solution: Let's solve this problem step-by-step.\\n# Step 1: Group models by their brands.\\nmodel_by_brand_df = df.groupby('brand')\\n# Step 2: Find the index of rows that have the highest price in each group\\nidx = model_by_brand_df['price'].idxmax()\\n# Step 3: Get the rows using the index\\nexpensive_models_df = df.loc[idx]\\n# Step 4: Return the brand name, model and price.\\nresult = expensive_models_df[['brand', 'model', 'price']]\\n\\n\\n# In[ ]:\\n\\n\\n# # Exercise 5\\n\\n\\n# In[ ]:\\n\\n\\nimport pandas as pd\\nimport numpy as np\\nfrom datetime import datetime\\n\\n\\n# In[ ]:\\n\\n\\ndf=pd.read_excel('dataset/orders_data.xlsx')\\n\\n\\n# In[ ]:\\n\\n\\n# Schema of Dataframes:\\n# Columns in df with example values:\\n# order_no (405-9763961-5211537), order_date (Sun, 18 Jul, 2021, 10:38 pm IST), buyer (Mr.), ship_city (CHANDIGARH,), ship_state (CHANDIGARH), sku (SKU:  2X-3C0F-KNJE), description (100% Leather Elephant Shaped Piggy Coin Bank | Block Printed West Bengal Handicr), quantity (1), item_total (\\u20b9449.00), shipping_fee (\\u20b960.18), cod (Cash On Delivery), order_status (Delivered to buyer)\\n\\n\\n# In[ ]:\\n\\n\\ndf.head()\\n\\n\\n# In[ ]:\\n\\n\\ndf.info()\\n\\n\\n# In[ ]:\\n\\n\\n# How many items purchased within the month of November were returned to seller?\\n\\n\\n# In[ ]:\\n\\n\\ndef months(x):\\n    x=x.split(',')[1][-3:]\\n    return x\\ndf['Month']=df['order_date'].apply(months)\\nlen(df[(df['Month']=='Nov') & (df['order_status']=='Returned to seller')])\\n\\n\\n# In[ ]:\\n\\n\\n# Convert item total column from string to float\\n\\n\\n# In[ ]:\\n\\n\\ndef total_float(price):\\n    try:\\n        return float(price.strip('\\u20b9').strip(',').replace(',',\\\"\\\"))\\n    except:\\n        try:\\n            return float(price)\\n        except:\\n            return np.NaN\\ndf['item_total']=df['item_total'].apply(total_float)\\n\\n\\n# In[ ]:\\n\\n\\n# What is the average price for leather wallets?\\n\\n\\n# In[ ]:\\n\\n\\ndf[df['description'].str.lower().str.contains('wallet') & df['description'].str.lower().str.contains('leather')]['item_total'].mean()\\n\\n\\n# In[ ]:\\n\\n\\n# In what distinct years have the orders been placed in?\\n\\n\\n# In[ ]:\\n\\n\\nlist(pd.to_datetime(df['order_date'].map(lambda x: x[:-4])).dt.year.unique())\\n\\n\\n# In[ ]:\\n\\n\\n# What item is sold the most?\\n\\n\\n# In[ ]:\\n\\n\\ndf[df['sku']==df['sku'].value_counts(ascending=False).index[0]]['description'].values[0]\\n\\n\\n# In[ ]:\\n\\n\\n# What is the city that had cash on delivery as the most common payment method?\\n\\n\\n# In[ ]:\\n\\n\\ndf.groupby('ship_city').count()['cod'].sort_values(ascending=False).index[0][:-1]\\n\\n\\n# In[ ]:\\n\\n\\n# Problem: What are the average shipping fees for each state, starting from highest to lowest? (rounded to 2 decimal places)\\n\\n\\n# In[ ]:\\n\\n\\n# Solution: Let's solve this problem step-by-step.\\n\"}\n",
    "]\n",
    "\n",
    "print(generate_response(messages))"
   ]
  },
  {
   "cell_type": "code",
   "execution_count": null,
   "metadata": {},
   "outputs": [],
   "source": [
    "from arcade_nl2code.annotated_dataset import dataset as dataset_module\n",
    "from pprint import pprint\n",
    "from tqdm import tqdm\n",
    "\n",
    "DATASET_PATH = \"arcade_nl2code/annotated_dataset/dataset/new_tasks/derived_datasets/dataset.schema.originating_dfs.header_description.after_variable_cell.maxp2100.maxp_no_prefix900.maxctxcell-1.e1_2_3_5.step_by_steppreambleexplanation.json\"\n",
    "OUTPUT_PATH = f\"predictions/codeqwen/predictions.json\"\n",
    "\n",
    "preds = []\n",
    "dataset = dataset_module.load_dataset(DATASET_PATH)\n",
    "\n",
    "for episode in tqdm(dataset, desc=\"Episodes\"):\n",
    "    episode_prediction = dict(\n",
    "        metadata={k: v for k, v in episode.items() if k != 'turns'},\n",
    "        turns=[]\n",
    "    )\n",
    "\n",
    "    for turn_example in tqdm(episode['turns'], \"Turns\", leave=False):\n",
    "      messages = [\n",
    "            {\"role\": \"system\", \"content\": SYSTEM_PROMPT},\n",
    "            {\"role\": \"user\", \"content\": turn_example.input}\n",
    "      ]\n",
    "      code_str = generate_response(messages)\n",
    "      turn_pred_entry = dict(\n",
    "          metadata=dict(example=turn_example),\n",
    "          predictions=[code_str],\n",
    "      )\n",
    "      episode_prediction['turns'].append(turn_pred_entry)\n",
    "\n",
    "    preds.append(episode_prediction)\n",
    "\n",
    "dataset_module.save_dataset(preds, OUTPUT_PATH)"
   ]
  },
  {
   "cell_type": "code",
   "execution_count": null,
   "metadata": {},
   "outputs": [],
   "source": []
  }
 ],
 "metadata": {
  "kernelspec": {
   "display_name": "cloudspace",
   "language": "python",
   "name": "python3"
  },
  "language_info": {
   "codemirror_mode": {
    "name": "ipython",
    "version": 3
   },
   "file_extension": ".py",
   "mimetype": "text/x-python",
   "name": "python",
   "nbconvert_exporter": "python",
   "pygments_lexer": "ipython3",
   "version": "3.10.10"
  }
 },
 "nbformat": 4,
 "nbformat_minor": 2
}
