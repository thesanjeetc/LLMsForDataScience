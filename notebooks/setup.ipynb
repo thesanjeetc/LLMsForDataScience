{
 "cells": [
  {
   "cell_type": "markdown",
   "id": "f8f8621d-e9e5-4f0b-8cf9-cd8eca7a9f42",
   "metadata": {},
   "source": [
    "### Initializing Raw Datasets"
   ]
  },
  {
   "cell_type": "code",
   "execution_count": null,
   "id": "ffd13569-4143-4bca-b448-643c630ea356",
   "metadata": {
    "jupyter": {
     "outputs_hidden": true
    }
   },
   "outputs": [],
   "source": [
    "!pip install kaggle\n",
    "\n",
    "!git clone https://github.com/google-research/arcade-nl2code\n",
    "!mv arcade-nl2code/arcade_nl2code arcade_nl2code\n",
    "\n",
    "!kaggle datasets download \\\n",
    "    -d googleai/arcade-nl2code-dataset \\\n",
    "    -p arcade_nl2code/annotated_dataset/dataset/ --force\n",
    "\n",
    "!unzip arcade_nl2code/annotated_dataset/dataset/arcade-nl2code-dataset.zip \\\n",
    "    -d arcade_nl2code/annotated_dataset/dataset/\n",
    "\n",
    "!rm -rf arcade-nl2code"
   ]
  },
  {
   "cell_type": "code",
   "execution_count": null,
   "id": "af439db5-83e6-4102-a05c-1bfde732919c",
   "metadata": {
    "jupyter": {
     "outputs_hidden": true
    }
   },
   "outputs": [],
   "source": [
    "%pip install -r arcade_nl2code/evaluation/requirements.txt\n",
    "%pip install seqio diff_match_patch ipython_genutils cloudpickle statsmodels openpyxl\n",
    "!sudo apt-get install -y faketime"
   ]
  },
  {
   "cell_type": "code",
   "execution_count": null,
   "id": "1a059e91-629c-49b2-8c85-244502e7aaa5",
   "metadata": {
    "jupyter": {
     "outputs_hidden": true
    }
   },
   "outputs": [],
   "source": [
    "!cd arcade_nl2code/annotated_dataset && PYTHONPATH=../../ python build_existing_tasks_split.py"
   ]
  },
  {
   "cell_type": "code",
   "execution_count": null,
   "id": "39f5b323-f09d-457d-8d68-28a5e2686bea",
   "metadata": {
    "jupyter": {
     "outputs_hidden": true
    }
   },
   "outputs": [],
   "source": [
    "!cd arcade_nl2code/annotated_dataset && PYTHONPATH=../../ python build_new_tasks_split.py"
   ]
  },
  {
   "cell_type": "code",
   "execution_count": null,
   "id": "6c57b332-916b-43e0-bfe9-ab65caf366bc",
   "metadata": {},
   "outputs": [],
   "source": [
    "!sed -i \\\n",
    "    -e 's/np.bool/bool/g' \\\n",
    "    -e 's/item, _ = stats.mode(genres)/item = pd.Series(genres).value_counts().idxmax()/g' \\\n",
    "    -e \"s/sns.lmplot('Fat', 'Energy'/sns.lmplot(x='Fat',y='Energy'/g\" \\\n",
    "    -e \"s/sns.barplot('Ingredient', 'Fat'/sns.barplot(x='Ingredient', y='Fat'/g\" \\\n",
    "    -e \"s/sns.boxplot('Ingredient', 'Fat'/sns.boxplot(x='Ingredient', y='Fat'/g\" \\\n",
    "    -e \"s/sns.regplot('Fat', y='Energy'/sns.regplot(x='Fat', y='Energy'/g\" \\\n",
    "    -e \"s/sns.jointplot('Fat','Energy'/sns.jointplot(x='Fat', y='Energy'/g\" \\\n",
    "    -e \"s/al_results_2020/2020_al_data_kaggle_upload_new_old_syllabi/g\" \\\n",
    "    -e \"s/general_english_r/ge_r/g\" \\\n",
    "    ./arcade_nl2code/annotated_dataset/dataset/existing_tasks/dataset.json \\\n",
    "    ./arcade_nl2code/annotated_dataset/dataset/new_tasks/dataset.json"
   ]
  },
  {
   "cell_type": "code",
   "execution_count": null,
   "id": "8b18f9b2",
   "metadata": {},
   "outputs": [],
   "source": [
    "import json\n",
    "\n",
    "basedir = 'arcade_nl2code/annotated_dataset/dataset'\n",
    "for d in [\"existing_tasks\", \"new_tasks\"]:\n",
    "    datafile = f'{basedir}/{d}/dataset.json'\n",
    "    with open(datafile, 'r') as f:\n",
    "        data = json.load(f)\n",
    "    for notebook in data:\n",
    "        fpath = f'{basedir}/{d}/artifacts/{notebook[\"notebook_name\"]}'\n",
    "        last_turn = notebook['turns'][-1]\n",
    "        cells = last_turn[\"metadata\"][\"context_cells\"]\n",
    "        last_intent, last_code = last_turn[\"turn\"][\"intent\"][\"value\"], last_turn[\"turn\"][\"code\"][\"value\"]\n",
    "        cells.extend([{\"cell_type\": \"markdown\", \"source\": last_intent}, {\"cell_type\": \"code\", \"source\": last_code}])\n",
    "        meta = {\"execution_count\": None, \"metadata\": {}, \"outputs\": []}\n",
    "        contents = {\"cells\": list(map(lambda c: c | meta, cells))}\n",
    "        print(f'Saving notebook {notebook[\"notebook_name\"]}')\n",
    "        with open(fpath, 'w') as f:\n",
    "            f.write(json.dumps(contents, indent=4))"
   ]
  },
  {
   "cell_type": "markdown",
   "id": "3cd15058-69d3-4581-a06a-83d0fb0edfc2",
   "metadata": {},
   "source": [
    "### Generating Prompt Datasets"
   ]
  },
  {
   "cell_type": "code",
   "execution_count": null,
   "id": "cfedbaa4-a393-4a04-a2ed-9171ff5f7c14",
   "metadata": {},
   "outputs": [],
   "source": [
    "%env MAX_PROMPT_SIZE=900\n",
    "%env DATASET_ROOT=arcade_nl2code/annotated_dataset/dataset\n",
    "!faketime \"2022-12-10 12:00:00\" python -m arcade_nl2code.annotated_dataset.generate_schema_augmented_prompts \\\n",
    "    --dataset ${DATASET_ROOT}/existing_tasks/dataset.json \\\n",
    "    --output_folder ${DATASET_ROOT}/existing_tasks/derived_datasets/ \\\n",
    "    --runtime_artifacts_root ${DATASET_ROOT}/existing_tasks/artifacts/ \\\n",
    "    --schema_representation_method \"originating_dfs.header_description.after_variable_cell\" \\\n",
    "    --max_prompt_size ${MAX_PROMPT_SIZE} \\\n",
    "    --truncate_metadata_path ${DATASET_ROOT}/existing_tasks/derived_datasets/dataset.schema.originating_dfs.header_description.after_variable_cell.maxp900.maxp_no_prefix-1.maxctxcell-1.truncate_metadata.json \\\n",
    "    --ignore_errors\n"
   ]
  },
  {
   "cell_type": "markdown",
   "id": "94be6e72-2eda-4cc6-8285-838d4be66414",
   "metadata": {},
   "source": [
    "### Running Evaluation "
   ]
  },
  {
   "cell_type": "code",
   "execution_count": null,
   "id": "c50a2260-ac5a-47ec-a0bc-38e9a1474e62",
   "metadata": {},
   "outputs": [],
   "source": [
    "!PYTHONPATH=. python arcade_nl2code/evaluation/scripts/get_dummy_prediction.py \\\n",
    "    --input arcade_nl2code/annotated_dataset/dataset/new_tasks/derived_datasets/dataset.schema.originating_dfs.header_description.after_variable_cell.maxp900.maxp_no_prefix-1.maxctxcell-1.json \\\n",
    "    --output arcade_nl2code/evaluation/test_data/dummy_prediction.json"
   ]
  },
  {
   "cell_type": "code",
   "execution_count": null,
   "id": "9054bdbd-03f9-4142-8e85-778eff980970",
   "metadata": {},
   "outputs": [],
   "source": [
    "!cd arcade_nl2code/evaluation/ && docker build -t notebook_evaluator ."
   ]
  },
  {
   "cell_type": "code",
   "execution_count": null,
   "id": "53ea1e6d-d476-4e99-969e-3cddf1d73c25",
   "metadata": {},
   "outputs": [],
   "source": [
    "%env PROJECT_ROOT=arcade_nl2code\n",
    "!docker run -it --shm-size=4g \\\n",
    "  --mount type=bind,source=$PWD/${PROJECT_ROOT}/evaluation/test_data/,target=/data \\\n",
    "  --mount type=bind,source=$PWD/${PROJECT_ROOT}/annotated_dataset/dataset/new_tasks/artifacts,target=/artifacts \\\n",
    "  -w / \\\n",
    "  --entrypoint /opt/conda/bin/python \\\n",
    "  notebook_evaluator:latest \\\n",
    "  -m arcade_nl2code.evaluation.execution_evaluation_main \\\n",
    "  --prediction_file /data/dummy_prediction.json \\\n",
    "  --output_path /data/ \\\n",
    "  --runtime_artifact_root /artifacts \\\n",
    "  --lm_output_postprocessor extract_first_cell_block  \\\n",
    "  --split_episode \\\n",
    "  --noreuse_state \\\n",
    "  --timeout 180 \\\n",
    "  --num_workers 20"
   ]
  }
 ],
 "metadata": {
  "kernelspec": {
   "display_name": "fyp",
   "language": "python",
   "name": "fyp"
  },
  "language_info": {
   "codemirror_mode": {
    "name": "ipython",
    "version": 3
   },
   "file_extension": ".py",
   "mimetype": "text/x-python",
   "name": "python",
   "nbconvert_exporter": "python",
   "pygments_lexer": "ipython3",
   "version": "3.10.14"
  }
 },
 "nbformat": 4,
 "nbformat_minor": 5
}
