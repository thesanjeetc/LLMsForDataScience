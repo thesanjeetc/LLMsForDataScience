{
 "cells": [
  {
   "cell_type": "code",
   "execution_count": null,
   "metadata": {
    "id": "Jax3JNiaqNUZ"
   },
   "outputs": [],
   "source": [
    "import pandas as pd\n",
    "import matplotlib.pyplot as plt"
   ]
  },
  {
   "cell_type": "markdown",
   "metadata": {
    "id": "manI8W1ijRXH"
   },
   "source": [
    "You are a professional data scientist. Answer the following questions using pandas and matplotlib."
   ]
  },
  {
   "cell_type": "markdown",
   "metadata": {
    "id": "tvI6PsNyNP7Y"
   },
   "source": [
    "# Metadata\n",
    "\n",
    "* Task 1 (`list` output): Which countries host at least two olympic games?\n",
    "* Task 2 (double outputs): How many male and female employees are born in 1992?\n",
    "* Task 3 (ambiguous concept): Get the students with an averaged score above 90 for science subjects.\n",
    "* Task 4 (simple one-liner): What is the population of California?\n",
    "* Task 5 (wrangling+visualization): Make a new column \"grade\" for letter grades (A: `90+`, B: `70-90`, C: `<70`) and plot the number of students in each grade.\n",
    "* Task 6 (`argmax`): What is the most expensive phone in each brand."
   ]
  },
  {
   "cell_type": "markdown",
   "metadata": {
    "id": "qLqi3yR1KrcK"
   },
   "source": [
    "# Exercise 1"
   ]
  },
  {
   "cell_type": "code",
   "execution_count": null,
   "metadata": {
    "id": "dIO8yfwYqTlX"
   },
   "outputs": [],
   "source": [
    "# Data Defination (olympics.csv)\n",
    "df = pd.DataFrame([\n",
    "    {'Year': 1896, 'City': 'Athens', 'Country': 'Greece', 'Nations': 14},\n",
    "    {'Year': 2008, 'City': 'Beijing', 'Country': 'China', 'Nations': 103},\n",
    "    {'Year': 2020, 'City': 'Tokyo', 'Country': 'Japan', 'Nations': 80},\n",
    "    {'Year': 2022, 'City': 'Tokyo', 'Country': 'Japan', 'Nations': 80}\n",
    "])"
   ]
  },
  {
   "cell_type": "markdown",
   "metadata": {
    "id": "XcFTYsL4sFG6"
   },
   "source": [
    "Task: Which countries host at least two olympic games?"
   ]
  },
  {
   "cell_type": "code",
   "execution_count": null,
   "metadata": {
    "id": "1oaHss39j8Z7"
   },
   "outputs": [],
   "source": [
    "### Type: short\n",
    "count_df = df['Country'].value_counts()\n",
    "count_df[count_df >= 2].index.tolist()"
   ]
  },
  {
   "cell_type": "code",
   "execution_count": null,
   "metadata": {
    "id": "c-SezQOps2if"
   },
   "outputs": [],
   "source": [
    "### Type: step\n",
    "# Step 1: Count the number of times each country hosted olympics\n",
    "count_df = df['Country'].value_counts()\n",
    "# Step 2: Find entries with more than 2 counts\n",
    "filtered_df = count_df[count_df >= 2]\n",
    "# Step 3: Get the country names as a list\n",
    "filtered_df.index.tolist()"
   ]
  },
  {
   "cell_type": "markdown",
   "metadata": {
    "id": "wyCsxBa5Mv9q"
   },
   "source": [
    "# Exercise 2"
   ]
  },
  {
   "cell_type": "code",
   "execution_count": null,
   "metadata": {
    "id": "mRWHsGZczML9"
   },
   "outputs": [],
   "source": [
    "# Data Defination (employee.csv)\n",
    "df = pd.DataFrame([\n",
    "    {'name': 'Peter', 'gender': 'm', 'DOB': '1992/01/17'},\n",
    "    {'name': 'Joe', 'gender': 'm', 'DOB': '1991/03/23'},\n",
    "    {'name': 'Amy', 'gender': 'f', 'DOB': '1993/08/30'},\n",
    "])"
   ]
  },
  {
   "cell_type": "markdown",
   "metadata": {
    "id": "bbZmJN-EM9hx"
   },
   "source": [
    "Task: How many male and female employees are born in 1992?"
   ]
  },
  {
   "cell_type": "code",
   "execution_count": null,
   "metadata": {
    "id": "7AmXFmQ0lZL_"
   },
   "outputs": [],
   "source": [
    "### Type: short\n",
    "df['DOB'] = pd.to_datetime(df['DOB'])\n",
    "num_male_students = len(df[(df['DOB'].dt.year == 1992) & (df['gender'] == 'm')])\n",
    "num_female_students = len(df[(df['DOB'].dt.year == 1992) & (df['gender'] == 'f')])"
   ]
  },
  {
   "cell_type": "code",
   "execution_count": null,
   "metadata": {
    "id": "iMCBjNnhxO7_"
   },
   "outputs": [],
   "source": [
    "### Type: step\n",
    "\n",
    "# Step 1: convert date of birth in to datetime\n",
    "df['DOB'] = pd.to_datetime(df['DOB'])\n",
    "# Step 2: get the number of male born in 1992\n",
    "num_male_students = len(df[(df['DOB'].dt.year == 1992) & (df['gender'] == 'm')])\n",
    "# Step 3: get the number of female born in that year\n",
    "num_female_students = len(df[(df['DOB'].dt.year == 1992) & (df['gender'] == 'f')])"
   ]
  },
  {
   "cell_type": "markdown",
   "metadata": {
    "id": "_rTYX2TaNBbw"
   },
   "source": [
    "# Exercise 3"
   ]
  },
  {
   "cell_type": "code",
   "execution_count": null,
   "metadata": {
    "id": "tIhhChh971MU"
   },
   "outputs": [],
   "source": [
    "# Data Defination (scores.csv)\n",
    "df = pd.DataFrame([\n",
    "    {'Stu_Name': 'Mike', 'Engineering': 90, 'English': 89, 'Math': 92},\n",
    "    {'Stu_Name': 'John', 'Engineering': 87, 'English': 76, 'Math': 85},\n",
    "    {'Stu_Name': 'Justin', 'Engineering': 40, 'English': 93, 'Math': 90}\n",
    "])"
   ]
  },
  {
   "cell_type": "markdown",
   "metadata": {
    "id": "DX6pe-bBFtuu"
   },
   "source": [
    "Task: Get the students with an averaged score above 90 for science subjects. "
   ]
  },
  {
   "cell_type": "code",
   "execution_count": null,
   "metadata": {
    "id": "0QFQORAaln99"
   },
   "outputs": [],
   "source": [
    "### Type: short\n",
    "df['Science_Avg'] = (df['Engineering'] + df['Math']) / 2\n",
    "df[df['Science_Avg'] > 90][['Stu_Name', 'Science_Avg']]"
   ]
  },
  {
   "cell_type": "code",
   "execution_count": null,
   "metadata": {
    "id": "TP7gVDFbyVZ-"
   },
   "outputs": [],
   "source": [
    "### Type: cla\n",
    "# Solution: assume \"science subjects\" means engineering and math. Return a dataframe with student names and their average scores.\n",
    "df['Science_Avg'] = (df['Engineering'] + df['Math']) / 2\n",
    "df_score_above_90 = df[df['Science_Avg'] > 90]\n",
    "result = df_score_above_90[['Stu_Name', 'Science_Avg']]"
   ]
  },
  {
   "cell_type": "code",
   "execution_count": null,
   "metadata": {
    "id": "p3uqCG24yVZ-"
   },
   "outputs": [],
   "source": [
    "### Type: step\n",
    "\n",
    "# Step 1: Create a new column with the average score of engineering and math\n",
    "df['Science_Avg'] = (df['Engineering'] + df['Math']) / 2\n",
    "# Step 2: Get the rows whose average score is above 90\n",
    "df_score_above_90 = df[df['Science_Avg'] > 90]\n",
    "# Step 3: Return the student name and average scores\n",
    "result = df_score_above_90[['Stu_Name', 'Science_Avg']]"
   ]
  },
  {
   "cell_type": "markdown",
   "metadata": {
    "id": "y2o7HHgB3-MF"
   },
   "source": [
    "# Exercise 4"
   ]
  },
  {
   "cell_type": "code",
   "execution_count": null,
   "metadata": {
    "id": "D_jNFM6D3_Pq"
   },
   "outputs": [],
   "source": [
    "# Data Defination (geo.csv)\n",
    "df = pd.DataFrame([\n",
    "    {'state': 'WA', 'capital': 'Seattle', 'population': '1.4 millon'},\n",
    "    {'state': 'PA', 'capital': 'Pittsburgh', 'population': '2 millon'},\n",
    "    {'state': 'CA', 'capital': 'Sacramento', 'population': '3.31 millon'},\n",
    "])"
   ]
  },
  {
   "cell_type": "markdown",
   "metadata": {
    "id": "Z9qOMYO16HnZ"
   },
   "source": [
    "Task: What is the population of California?"
   ]
  },
  {
   "cell_type": "code",
   "execution_count": null,
   "metadata": {
    "id": "7jG9vjP5nmdp"
   },
   "outputs": [],
   "source": [
    "### Type: short\n",
    "result = df[df['state'] == 'CA']['population']"
   ]
  },
  {
   "cell_type": "code",
   "execution_count": null,
   "metadata": {
    "id": "O64GCNn6-KOg"
   },
   "outputs": [],
   "source": [
    "### Type: step\n",
    "result = df[df['state'] == 'CA']['population']"
   ]
  },
  {
   "cell_type": "markdown",
   "metadata": {
    "id": "MOo-TMyL_TSi"
   },
   "source": [
    "# Exercise 5"
   ]
  },
  {
   "cell_type": "code",
   "execution_count": null,
   "metadata": {
    "id": "Wg63zUFl_VbZ"
   },
   "outputs": [],
   "source": [
    "# Data Defination (score.csv)\n",
    "df = pd.DataFrame([\n",
    "    {'name': 'John', 'score': 97},\n",
    "    {'name': 'Peter', 'score': 82},\n",
    "    {'name': 'Justin', 'score': 66},\n",
    "])"
   ]
  },
  {
   "cell_type": "markdown",
   "metadata": {
    "id": "Dox2csfz_yH5"
   },
   "source": [
    "Task: Make a new column \"grade\" for letter grades (A: 90+, B: 70-90, C: <70) and plot the number of students in each grade."
   ]
  },
  {
   "cell_type": "code",
   "execution_count": null,
   "metadata": {
    "id": "RvD_nyvenqHF"
   },
   "outputs": [],
   "source": [
    "### Type: short\n",
    "df['grade'] = df.score.apply(lambda x: 'A' if x >= 90 else ('B' if 70 <= x < 90 else 'C'))\n",
    "df.grade.value_counts().plot(kind='bar')"
   ]
  },
  {
   "cell_type": "code",
   "execution_count": null,
   "metadata": {
    "id": "FA-r-ks0DmLy"
   },
   "outputs": [],
   "source": [
    "### Type: step\n",
    "# Step 1: Define a function to convert scores to letter grades.\n",
    "def get_grade(score):\n",
    "  if score >= 90:\n",
    "    return 'A'\n",
    "  elif 70 <= score < 90:\n",
    "    return 'B'\n",
    "  else:\n",
    "    return 'C'\n",
    "# Step 2: Convert scores to letter grades.\n",
    "df['grade'] = df.score.apply(get_grade)\n",
    "# Step 3: Count the number of students by grade.\n",
    "count_df = df['grade'].value_counts()\n",
    "# Step 4: Visualize in a bar chart.\n",
    "count_df.plot(kind='bar')"
   ]
  },
  {
   "cell_type": "markdown",
   "metadata": {
    "id": "dv5kvZFQFMS8"
   },
   "source": [
    "# Exercise 6"
   ]
  },
  {
   "cell_type": "code",
   "execution_count": null,
   "metadata": {
    "id": "3rCRo-FBFGC6"
   },
   "outputs": [],
   "source": [
    "# Data Defination (phones.csv)\n",
    "df = pd.DataFrame([\n",
    "    {'model': 'Pixel 6', 'brand': 'Google', 'price': 387, 'release': 2022},\n",
    "    {'model': 'iPhone', 'brand': 'Apple', 'price': 998, 'release': 2003},\n",
    "    {'model': 'Pixel 4', 'brand': 'Google', 'price': 788, 'release': 2021},\n",
    "])"
   ]
  },
  {
   "cell_type": "markdown",
   "metadata": {
    "id": "7NDjeaPzGvI6"
   },
   "source": [
    "Task: What is the most expensive phone in each brand."
   ]
  },
  {
   "cell_type": "code",
   "execution_count": null,
   "metadata": {
    "id": "1grcuMlUoEXw"
   },
   "outputs": [],
   "source": [
    "### Type: short\n",
    "df.loc[df.groupby('brand')['price'].idxmax()][['brand', 'model', 'price']]"
   ]
  },
  {
   "cell_type": "code",
   "execution_count": null,
   "metadata": {
    "id": "1RPj7Ub-BjHw"
   },
   "outputs": [],
   "source": [
    "### Type: step\n",
    "# Step 1: Group models by their brands.\n",
    "model_by_brand_df = df.groupby('brand')\n",
    "# Step 2: Find the index of rows that have the highest price in each group\n",
    "idx = model_by_brand_df['price'].idxmax()\n",
    "# Step 3: Get the rows using the index\n",
    "expensive_models_df = df.loc[idx]\n",
    "# Step 4: Return the brand name, model and price.\n",
    "result = expensive_models_df[['brand', 'model', 'price']]"
   ]
  }
 ],
 "metadata": {
  "colab": {
   "collapsed_sections": [
    "tvI6PsNyNP7Y"
   ],
   "last_runtime": {
    "build_target": "//learning/deepmind/public/tools/ml_python:ml_notebook",
    "kind": "private"
   },
   "private_outputs": true,
   "provenance": [
    {
     "file_id": "12q963tw-_HUjs-7gFo-dvDjSsko2hH9U",
     "timestamp": 1663113024251
    },
    {
     "file_id": "1if3Ww_DzQNiLzZcRoEWlip7S3F5U6vWZ",
     "timestamp": 1650933811597
    }
   ],
   "toc_visible": true
  },
  "kernelspec": {
   "display_name": "Python 3",
   "name": "python3"
  },
  "language_info": {
   "name": "python",
   "version": "3.10.10"
  }
 },
 "nbformat": 4,
 "nbformat_minor": 0
}
